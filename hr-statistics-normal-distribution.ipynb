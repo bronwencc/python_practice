{
 "cells": [
  {
   "cell_type": "markdown",
   "metadata": {},
   "source": [
    "This notebook addresses [HackerRank's](https://www.hackerrank.com) 10 Days of Statistics Normal Distribution challenges from Day 5:\n",
    "* [Normal Distribution I](https://www.hackerrank.com/challenges/s10-normal-distribution-1/problem)\n",
    "* [Normal Distribution II](https://www.hackerrank.com/challenges/s10-normal-distribution-2/problem)"
   ]
  },
  {
   "cell_type": "markdown",
   "metadata": {},
   "source": [
    "Statistics was on my mind today after listening to an interview that was part of Women Who Code DC's Virtual Career Services Day.\n",
    "Data Scientist Sian Lewis was interviewed about working in Data Science and there were many great pieces of advice. Among them was that it is helpful to have a strong statistics foundation.\n",
    "I wrapped up my Data Science course with a Natural Language Processing project, but that comment encouraged me to review the basics.\n",
    "\n",
    "I may as well be able to answer a question about basic statistics in interviews and keep coding patterns front-of-mind so I can access them under pressure!"
   ]
  },
  {
   "cell_type": "code",
   "execution_count": 1,
   "metadata": {},
   "outputs": [],
   "source": [
    "#packages used in this notebook\n",
    "import numpy as np"
   ]
  },
  {
   "cell_type": "markdown",
   "metadata": {},
   "source": [
    "# Normal Distribution I\n",
    "## Prompt:\n",
    "In a certain plant, the time taken to assemble a car is a random variable, $X$, having a normal distribution with a mean of 20 hours and a standard deviation of 2 hours. What is the probability that a car can be assembled at this plant in:\n",
    "\n",
    "1. Less than 19.5 hours?\n",
    "2. Between 20 and 22 hours?\n",
    "\n",
    "#### Input Format\n",
    "\n",
    "There are three lines of input:\n",
    "```\n",
    "20 2\n",
    "19.5\n",
    "20 22\n",
    "```\n",
    "The first line contains 2 space-separated values denoting the respective mean and standard deviation for $X$. The second line contains the number associated with question 1. The third line contains 2 space-separated values describing the respective lower and upper range boundaries for question 2.\n",
    "\n",
    "#### Output Format\n",
    "\n",
    "There are two lines of output. Your answers must be rounded to a scale of 3 decimal places (e.g., 1.234):\n",
    "\n",
    "On the first line, print the answer to question 1 (the probability that a car can be assembled in less than 19.5 hours).\n",
    "On the second line, print the answer to question 2 (the probability that a car can be assembled in 20 to 22 hours)."
   ]
  },
  {
   "cell_type": "code",
   "execution_count": null,
   "metadata": {},
   "outputs": [],
   "source": []
  },
  {
   "cell_type": "markdown",
   "metadata": {},
   "source": [
    "# Normal Distribution II\n",
    "## Prompt:\n",
    "\n",
    "The final grades for a Physics exam taken by a large group of students have a mean of 70 and a standard deviation of 10. If we can approximate the distribution of these grades by a normal distribution, what percentage of the students:\n",
    "\n",
    "1. Scored higher than 80 (had a grade > 80)?\n",
    "2. Passed the test (had a grade $\\ge$ 60)?\n",
    "3. Failed the test (had a grade < 60)?\n",
    "\n",
    "Find and print the answer to each question on a new line, rounded to a scale of 2 decimal places.\n",
    "\n",
    "#### Input Format\n",
    "\n",
    "There are three lines of input (shown below):\n",
    "```\n",
    "70 10\n",
    "80\n",
    "60\n",
    "```\n",
    "The first line contains 2 space-separated values denoting the respective mean and standard deviation for the exam. The second line contains the number associated with question 1. The third line contains the pass/fail threshold number associated with questions 2 and 3.\n",
    "\n",
    "#### Output Format\n",
    "\n",
    "There are three lines of output. Your answers must be rounded to a scale of 2 decimal places (e.g., `1.23`):\n",
    "\n",
    "1. On the first line, print the answer to question 1 (the percentage of students that received a grade > 80).\n",
    "2. On the second line, print the answer to question 2 (the percentage of students that received a grade $\\ge$ 60).\n",
    "3. On the third line, print the answer to question 3 (the percentage of students that received a grade < 60)."
   ]
  },
  {
   "cell_type": "code",
   "execution_count": null,
   "metadata": {},
   "outputs": [],
   "source": []
  }
 ],
 "metadata": {
  "kernelspec": {
   "display_name": "Python 3",
   "language": "python",
   "name": "python3"
  },
  "language_info": {
   "codemirror_mode": {
    "name": "ipython",
    "version": 3
   },
   "file_extension": ".py",
   "mimetype": "text/x-python",
   "name": "python",
   "nbconvert_exporter": "python",
   "pygments_lexer": "ipython3",
   "version": "3.8.3"
  }
 },
 "nbformat": 4,
 "nbformat_minor": 4
}
