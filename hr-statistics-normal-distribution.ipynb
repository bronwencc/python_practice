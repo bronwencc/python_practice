{
 "cells": [
  {
   "cell_type": "markdown",
   "metadata": {},
   "source": [
    "This notebook addresses [HackerRank's](https://www.hackerrank.com) 10 Days of Statistics Normal Distribution challenges from Day 5:\n",
    "* [Normal Distribution I](https://www.hackerrank.com/challenges/s10-normal-distribution-1/problem)\n",
    "* [Normal Distribution II](https://www.hackerrank.com/challenges/s10-normal-distribution-2/problem)"
   ]
  },
  {
   "cell_type": "markdown",
   "metadata": {},
   "source": [
    "Statistics was on my mind today after listening to an interview that was part of Women Who Code DC's Virtual Career Services Day.\n",
    "Data Scientist Sian Lewis was interviewed about working in Data Science and there were many great pieces of advice. Among them was that it is helpful to have a strong statistics foundation.\n",
    "I wrapped up my Data Science course with a Natural Language Processing project, but that comment encouraged me to review the basics.\n",
    "\n",
    "I may as well be able to answer a question about basic statistics in interviews and keep coding patterns front-of-mind so I can access them under pressure!"
   ]
  },
  {
   "cell_type": "markdown",
   "metadata": {},
   "source": [
    "In fact, a normal distribution is one of the three assumptions necessary for conducting linear regressions."
   ]
  },
  {
   "cell_type": "code",
   "execution_count": 2,
   "metadata": {},
   "outputs": [],
   "source": [
    "#packages used in this notebook\n",
    "import random\n",
    "import numpy as np\n",
    "import matplotlib.pyplot as plt\n",
    "%matplotlib inline\n",
    "from scipy.stats import norm"
   ]
  },
  {
   "cell_type": "code",
   "execution_count": 3,
   "metadata": {},
   "outputs": [],
   "source": [
    "plt.style.use(\"seaborn\")"
   ]
  },
  {
   "cell_type": "markdown",
   "metadata": {},
   "source": [
    "# Normal Distribution I\n",
    "## Prompt:\n",
    "In a certain plant, the time taken to assemble a car is a random variable, $X$, having a normal distribution with a mean of 20 hours and a standard deviation of 2 hours. What is the probability that a car can be assembled at this plant in:\n",
    "\n",
    "1. Less than 19.5 hours?\n",
    "2. Between 20 and 22 hours?\n",
    "\n",
    "#### Input Format\n",
    "\n",
    "There are three lines of input:\n",
    "```\n",
    "20 2\n",
    "19.5\n",
    "20 22\n",
    "```\n",
    "The first line contains 2 space-separated values denoting the respective mean and standard deviation for $X$. The second line contains the number associated with question 1. The third line contains 2 space-separated values describing the respective lower and upper range boundaries for question 2.\n",
    "\n",
    "#### Output Format\n",
    "\n",
    "There are two lines of output. Your answers must be rounded to a scale of 3 decimal places (e.g., 1.234):\n",
    "\n",
    "On the first line, print the answer to question 1 (the probability that a car can be assembled in less than 19.5 hours).\n",
    "On the second line, print the answer to question 2 (the probability that a car can be assembled in 20 to 22 hours)."
   ]
  },
  {
   "cell_type": "code",
   "execution_count": 115,
   "metadata": {},
   "outputs": [],
   "source": [
    "mean, std = 20, 2\n",
    "quest1 = 19.5\n",
    "quest2 = [20, 22]"
   ]
  },
  {
   "cell_type": "code",
   "execution_count": 133,
   "metadata": {},
   "outputs": [],
   "source": [
    "#write information to text file\n",
    "with open(\"normdist1.txt\", \"w\") as file: #w clears and writes over any information already there\n",
    "    file.write(f\"{mean} {std} \\n\")\n",
    "    file.write(f\"{quest1} \\n\")\n",
    "    file.write(f\"{quest2[0]} {quest2[1]}\")\n",
    "#using reserved word \"with\" intead of needing to specify file.close()"
   ]
  },
  {
   "cell_type": "code",
   "execution_count": 130,
   "metadata": {},
   "outputs": [],
   "source": [
    "#read information from text file\n",
    "with open(\"normdist1.txt\",\"r\") as file:\n",
    "    mean, std = [int(i) for i in file.readline().strip().split(' ')]\n",
    "    quest1 = float(file.readline().strip())\n",
    "    quest2 = [int(i) for i in file.readline().strip().split(' ')]"
   ]
  },
  {
   "cell_type": "code",
   "execution_count": null,
   "metadata": {},
   "outputs": [],
   "source": [
    "# 18 and 22 are 1 standard deviation either side of the mean\n",
    "# one way to solve is to find what the cumulative probability is for values from 0 to 19.5\n",
    "#in a graphical sense, to sum up the area under the curve from 0 to 19.5"
   ]
  },
  {
   "cell_type": "code",
   "execution_count": 22,
   "metadata": {},
   "outputs": [],
   "source": [
    "#generate random normal distribution around 20 with a standard deviation of 2\n",
    "normdist = [random.normalvariate(20,2) for i in range(4000)]\n",
    "#put into ascending order\n",
    "xnorm = sorted(normdist)"
   ]
  },
  {
   "cell_type": "code",
   "execution_count": 66,
   "metadata": {},
   "outputs": [],
   "source": [
    "xval = np.arange(13,27,0.01) #range of x values, covering mean-7 and mean+7\n",
    "yval = norm.pdf(xval,20,2) #probability density function for those values around the mean of 20 and standard deviation of 2"
   ]
  },
  {
   "cell_type": "code",
   "execution_count": 86,
   "metadata": {},
   "outputs": [
    {
     "data": {
      "image/png": "[encoded data removed]",
      "text/plain": [
       "<Figure size 576x288 with 2 Axes>"
      ]
     },
     "metadata": {},
     "output_type": "display_data"
    }
   ],
   "source": [
    "fig, ax = plt.subplots(figsize=(8,4))\n",
    "xticklist = [14,16,18,20,22,24,26]\n",
    "\n",
    "plt.xlim((13,27)) #set x limits\n",
    "\n",
    "ax2 = ax.twiny() #set y axis to also be the same for ax2; upper axis\n",
    "ax2.set_xlim(ax.get_xlim()) #give same x limits to upper axis\n",
    "ax2.set_xticks(xticklist) #set upper axis tick positions\n",
    "ax2.set_xticklabels([\"-3$\\sigma$\",\"-2$\\sigma$\",\"-1$\\sigma$\",\"mean\",\"+1$\\sigma$\",\"+2$\\sigma$\",\"+3$\\sigma$\"])\n",
    "\n",
    "ax2.vlines(xticklist,ymin=-.02,ymax=.25,color=\"lightgrey\")\n",
    "\n",
    "#set y ticks and limits\n",
    "plt.yticks(np.arange(0,.26,step=.04))\n",
    "plt.ylim((-0.02,.25))\n",
    "\n",
    "ax2.plot(xval,yval)\n",
    "plt.show()"
   ]
  },
  {
   "cell_type": "code",
   "execution_count": 87,
   "metadata": {},
   "outputs": [
    {
     "data": {
      "text/plain": [
       "99.95347291153777"
      ]
     },
     "execution_count": 87,
     "metadata": {},
     "output_type": "execute_result"
    }
   ],
   "source": [
    "#calculate cumulative probability function\n",
    "sum(yval) #adding up all values generated for yval with norm.pdf"
   ]
  },
  {
   "cell_type": "code",
   "execution_count": 104,
   "metadata": {},
   "outputs": [
    {
     "data": {
      "text/plain": [
       "4.898149948923554"
      ]
     },
     "execution_count": 104,
     "metadata": {},
     "output_type": "execute_result"
    }
   ],
   "source": [
    "thisx = np.arange(13,20,.1) #a different interval and range, of about half (13-20) at larger intervals (.1 compared to .01)\n",
    "thisy = norm.pdf(thisx,20,2)\n",
    "sum(thisy)"
   ]
  },
  {
   "cell_type": "code",
   "execution_count": null,
   "metadata": {},
   "outputs": [],
   "source": []
  },
  {
   "cell_type": "code",
   "execution_count": null,
   "metadata": {},
   "outputs": [],
   "source": []
  },
  {
   "cell_type": "markdown",
   "metadata": {},
   "source": [
    "# Normal Distribution II\n",
    "## Prompt:\n",
    "\n",
    "The final grades for a Physics exam taken by a large group of students have a mean of 70 and a standard deviation of 10. If we can approximate the distribution of these grades by a normal distribution, what percentage of the students:\n",
    "\n",
    "1. Scored higher than 80 (had a grade > 80)?\n",
    "2. Passed the test (had a grade $\\ge$ 60)?\n",
    "3. Failed the test (had a grade < 60)?\n",
    "\n",
    "Find and print the answer to each question on a new line, rounded to a scale of 2 decimal places.\n",
    "\n",
    "#### Input Format\n",
    "\n",
    "There are three lines of input (shown below):\n",
    "```\n",
    "70 10\n",
    "80\n",
    "60\n",
    "```\n",
    "The first line contains 2 space-separated values denoting the respective mean and standard deviation for the exam. The second line contains the number associated with question 1. The third line contains the pass/fail threshold number associated with questions 2 and 3.\n",
    "\n",
    "#### Output Format\n",
    "\n",
    "There are three lines of output. Your answers must be rounded to a scale of 2 decimal places (e.g., `1.23`):\n",
    "\n",
    "1. On the first line, print the answer to question 1 (the percentage of students that received a grade > 80).\n",
    "2. On the second line, print the answer to question 2 (the percentage of students that received a grade $\\ge$ 60).\n",
    "3. On the third line, print the answer to question 3 (the percentage of students that received a grade < 60)."
   ]
  },
  {
   "cell_type": "code",
   "execution_count": 139,
   "metadata": {},
   "outputs": [],
   "source": [
    "#read in text file for this question\n",
    "with open(\"normdist2.txt\",'r') as file:\n",
    "    mean2, std2 = [int(i) for i in file.readline().strip().split(' ')] #split at single space,\n",
    "    q1 = int(file.readline().strip()) #remove trailing and leading whitespace,\n",
    "    q2 = q3 = int(file.readline().strip()) #and convert to integer"
   ]
  },
  {
   "cell_type": "code",
   "execution_count": null,
   "metadata": {},
   "outputs": [],
   "source": []
  }
 ],
 "metadata": {
  "kernelspec": {
   "display_name": "Python 3",
   "language": "python",
   "name": "python3"
  },
  "language_info": {
   "codemirror_mode": {
    "name": "ipython",
    "version": 3
   },
   "file_extension": ".py",
   "mimetype": "text/x-python",
   "name": "python",
   "nbconvert_exporter": "python",
   "pygments_lexer": "ipython3",
   "version": "3.8.3"
  }
 },
 "nbformat": 4,
 "nbformat_minor": 4
}
