{
 "cells": [
  {
   "cell_type": "markdown",
   "metadata": {},
   "source": [
    "This notebook addresses [HackerRank's](https://www.hackerrank.com) 10 Days of Statistics Normal Distribution challenges from Day 5:\n",
    "* [Normal Distribution I](https://www.hackerrank.com/challenges/s10-normal-distribution-1/problem)\n",
    "* [Normal Distribution II](https://www.hackerrank.com/challenges/s10-normal-distribution-2/problem)"
   ]
  },
  {
   "cell_type": "markdown",
   "metadata": {},
   "source": [
    "Statistics was on my mind today after listening to an interview that was part of Women Who Code DC's Virtual Career Services Day.\n",
    "Data Scientist Sian Lewis was interviewed about working in Data Science and there were many great pieces of advice. Among them was that it is helpful to have a strong statistics foundation.\n",
    "I wrapped up my Data Science course with a Natural Language Processing project, but that comment encouraged me to review the basics.\n",
    "\n",
    "I may as well be able to answer a question about basic statistics in interviews and keep coding patterns front-of-mind so I can access them under pressure!"
   ]
  },
  {
   "cell_type": "code",
   "execution_count": 12,
   "metadata": {},
   "outputs": [],
   "source": [
    "#packages used in this notebook\n",
    "import random\n",
    "import numpy as np\n",
    "import matplotlib.pyplot as plt\n",
    "%matplotlib inline\n",
    "from scipy.stats import norm"
   ]
  },
  {
   "cell_type": "code",
   "execution_count": 13,
   "metadata": {},
   "outputs": [],
   "source": [
    "plt.style.use(\"seaborn\")"
   ]
  },
  {
   "cell_type": "markdown",
   "metadata": {},
   "source": [
    "# Normal Distribution I\n",
    "## Prompt:\n",
    "In a certain plant, the time taken to assemble a car is a random variable, $X$, having a normal distribution with a mean of 20 hours and a standard deviation of 2 hours. What is the probability that a car can be assembled at this plant in:\n",
    "\n",
    "1. Less than 19.5 hours?\n",
    "2. Between 20 and 22 hours?\n",
    "\n",
    "#### Input Format\n",
    "\n",
    "There are three lines of input:\n",
    "```\n",
    "20 2\n",
    "19.5\n",
    "20 22\n",
    "```\n",
    "The first line contains 2 space-separated values denoting the respective mean and standard deviation for $X$. The second line contains the number associated with question 1. The third line contains 2 space-separated values describing the respective lower and upper range boundaries for question 2.\n",
    "\n",
    "#### Output Format\n",
    "\n",
    "There are two lines of output. Your answers must be rounded to a scale of 3 decimal places (e.g., 1.234):\n",
    "\n",
    "On the first line, print the answer to question 1 (the probability that a car can be assembled in less than 19.5 hours).\n",
    "On the second line, print the answer to question 2 (the probability that a car can be assembled in 20 to 22 hours)."
   ]
  },
  {
   "cell_type": "code",
   "execution_count": 3,
   "metadata": {},
   "outputs": [],
   "source": [
    "mean, std = 20, 2\n",
    "quest1 = 19.5\n",
    "quest2 = [20, 22]"
   ]
  },
  {
   "cell_type": "code",
   "execution_count": null,
   "metadata": {},
   "outputs": [],
   "source": [
    "# 18 and 22 are 1 standard deviation either side of the mean\n",
    "# according to a normal distribution, that means 68.2% of occurrences fall in the range 18-22\n",
    "# one way to solve is to find what percentage makes up the area under the curve from 0 to 19.5"
   ]
  },
  {
   "cell_type": "code",
   "execution_count": 10,
   "metadata": {},
   "outputs": [
    {
     "name": "stdout",
     "output_type": "stream",
     "text": [
      "The probability that a car can be assembled in 19.5 hours is between 15.8% and 50% (-2 and -1 stdev).\n"
     ]
    }
   ],
   "source": [
    "# manually adding up the percentages up to 18 (1 stdev away)\n",
    "totalpercents = .1+2.1+13.6 # for more than 3 standard deviations, between 2 and 3 standard deviations, and between 1 and 2\n",
    "print(f\"\"\"The probability that a car can be assembled in 19.5 hours is between {totalpercents}% and 50% (-2 and -1 stdev).\"\"\")"
   ]
  },
  {
   "cell_type": "code",
   "execution_count": 22,
   "metadata": {},
   "outputs": [],
   "source": [
    "#generate random normal distribution around 20 with a standard deviation of 2\n",
    "normdist = [random.normalvariate(20,2) for i in range(4000)]\n",
    "#put into ascending order\n",
    "xnorm = sorted(normdist)"
   ]
  },
  {
   "cell_type": "code",
   "execution_count": 39,
   "metadata": {},
   "outputs": [],
   "source": [
    "xval = np.arange(0,40,0.01) #the range of x values from 0 to 40, covering mean-20 and mean+20\n",
    "yval = norm.pdf(xval,20,2) #probability density function for those values around the mean of 20 and standard deviation of 2"
   ]
  },
  {
   "cell_type": "code",
   "execution_count": 40,
   "metadata": {},
   "outputs": [
    {
     "data": {
      "text/plain": [
       "[<matplotlib.lines.Line2D at 0x1dd62efd610>]"
      ]
     },
     "execution_count": 40,
     "metadata": {},
     "output_type": "execute_result"
    },
    {
     "data": {
      "image/png": "[encoded data removed]",
      "text/plain": [
       "<Figure size 576x288 with 1 Axes>"
      ]
     },
     "metadata": {},
     "output_type": "display_data"
    }
   ],
   "source": [
    "fig, ax = plt.subplots(figsize=(8,4))\n",
    "ax.plot(xval,yval)"
   ]
  },
  {
   "cell_type": "code",
   "execution_count": null,
   "metadata": {},
   "outputs": [],
   "source": []
  },
  {
   "cell_type": "markdown",
   "metadata": {},
   "source": [
    "# Normal Distribution II\n",
    "## Prompt:\n",
    "\n",
    "The final grades for a Physics exam taken by a large group of students have a mean of 70 and a standard deviation of 10. If we can approximate the distribution of these grades by a normal distribution, what percentage of the students:\n",
    "\n",
    "1. Scored higher than 80 (had a grade > 80)?\n",
    "2. Passed the test (had a grade $\\ge$ 60)?\n",
    "3. Failed the test (had a grade < 60)?\n",
    "\n",
    "Find and print the answer to each question on a new line, rounded to a scale of 2 decimal places.\n",
    "\n",
    "#### Input Format\n",
    "\n",
    "There are three lines of input (shown below):\n",
    "```\n",
    "70 10\n",
    "80\n",
    "60\n",
    "```\n",
    "The first line contains 2 space-separated values denoting the respective mean and standard deviation for the exam. The second line contains the number associated with question 1. The third line contains the pass/fail threshold number associated with questions 2 and 3.\n",
    "\n",
    "#### Output Format\n",
    "\n",
    "There are three lines of output. Your answers must be rounded to a scale of 2 decimal places (e.g., `1.23`):\n",
    "\n",
    "1. On the first line, print the answer to question 1 (the percentage of students that received a grade > 80).\n",
    "2. On the second line, print the answer to question 2 (the percentage of students that received a grade $\\ge$ 60).\n",
    "3. On the third line, print the answer to question 3 (the percentage of students that received a grade < 60)."
   ]
  },
  {
   "cell_type": "code",
   "execution_count": null,
   "metadata": {},
   "outputs": [],
   "source": []
  }
 ],
 "metadata": {
  "kernelspec": {
   "display_name": "Python 3",
   "language": "python",
   "name": "python3"
  },
  "language_info": {
   "codemirror_mode": {
    "name": "ipython",
    "version": 3
   },
   "file_extension": ".py",
   "mimetype": "text/x-python",
   "name": "python",
   "nbconvert_exporter": "python",
   "pygments_lexer": "ipython3",
   "version": "3.8.3"
  }
 },
 "nbformat": 4,
 "nbformat_minor": 4
}
