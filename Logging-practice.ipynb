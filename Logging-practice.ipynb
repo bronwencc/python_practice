{
 "cells": [
  {
   "cell_type": "markdown",
   "metadata": {},
   "source": [
    "This notebook is companion to a blog post about logging, collecting the gists used therein.\n",
    "#### Basic log file"
   ]
  },
  {
   "cell_type": "code",
   "execution_count": 1,
   "metadata": {},
   "outputs": [],
   "source": [
    "import logging"
   ]
  },
  {
   "cell_type": "code",
   "execution_count": 2,
   "metadata": {},
   "outputs": [],
   "source": [
    "#create .log file\n",
    "logging.basicConfig(filename=\"this_is_a.log\",level=0)"
   ]
  },
  {
   "cell_type": "code",
   "execution_count": 3,
   "metadata": {},
   "outputs": [],
   "source": [
    "#log messages to the file\n",
    "logging.debug(\"This is to help debug.\")\n",
    "logging.log(33, \"Almost a warning.\")"
   ]
  },
  {
   "cell_type": "markdown",
   "metadata": {},
   "source": [
    "#### Log an exception"
   ]
  },
  {
   "cell_type": "code",
   "execution_count": 4,
   "metadata": {},
   "outputs": [],
   "source": [
    "#integer variable\n",
    "fakeString = 40\n",
    "\n",
    "#try-exception that will cause an error, and generate exception message\n",
    "try:\n",
    "    len(fakeString)\n",
    "except:\n",
    "    logging.exception(f\"The length of {fakeString} could not be measured.\")"
   ]
  },
  {
   "cell_type": "markdown",
   "metadata": {},
   "source": [
    "#### Creating an instance of the Logger class"
   ]
  },
  {
   "cell_type": "code",
   "execution_count": 1,
   "metadata": {},
   "outputs": [],
   "source": [
    "import logging"
   ]
  },
  {
   "cell_type": "code",
   "execution_count": 2,
   "metadata": {},
   "outputs": [],
   "source": [
    "#create a logger\n",
    "Alogger = logging.getLogger(\"A_Logger\")\n",
    "Alogger.setLevel(logging.WARNING)"
   ]
  },
  {
   "cell_type": "code",
   "execution_count": 3,
   "metadata": {},
   "outputs": [],
   "source": [
    "#create Formatter\n",
    "Aformatter = logging.Formatter(\"%(levelname)s - %(asctime)s: %(message)s + %(somedata)s\")\n",
    "\n",
    "#create console handler\n",
    "Ahandler = logging.StreamHandler()\n",
    "Ahandler.setLevel(30)"
   ]
  },
  {
   "cell_type": "code",
   "execution_count": 4,
   "metadata": {},
   "outputs": [],
   "source": [
    "#set Formatter to handler\n",
    "Ahandler.setFormatter(Aformatter)\n",
    "\n",
    "#add console handler to logger\n",
    "Alogger.addHandler(Ahandler)"
   ]
  },
  {
   "cell_type": "code",
   "execution_count": 6,
   "metadata": {},
   "outputs": [
    {
     "name": "stderr",
     "output_type": "stream",
     "text": [
      "WARNING - 2020-10-11 16:41:52,354: This is the message. + 23\n"
     ]
    }
   ],
   "source": [
    "Alogger.warning(\"This is the message.\",extra={\"somedata\":23})"
   ]
  },
  {
   "cell_type": "code",
   "execution_count": 7,
   "metadata": {},
   "outputs": [],
   "source": [
    "Alogger.info(\"This is informative.\",extra={\"somedata\":\"(fortunately)\"})"
   ]
  },
  {
   "cell_type": "code",
   "execution_count": 8,
   "metadata": {},
   "outputs": [
    {
     "name": "stderr",
     "output_type": "stream",
     "text": [
      "CRITICAL - 2020-10-11 16:45:16,194: There is a serious problem. + Just kidding!\n"
     ]
    }
   ],
   "source": [
    "Alogger.critical(\"There is a serious problem.\",extra={\"somedata\":\"Just kidding!\"})"
   ]
  },
  {
   "cell_type": "markdown",
   "metadata": {},
   "source": [
    "#### Using a Configuration dictionary"
   ]
  },
  {
   "cell_type": "code",
   "execution_count": 1,
   "metadata": {},
   "outputs": [],
   "source": [
    "#logging.config needs to be imported explicitly\n",
    "import logging\n",
    "import logging.config"
   ]
  },
  {
   "cell_type": "code",
   "execution_count": 2,
   "metadata": {},
   "outputs": [],
   "source": [
    "Bdict = {\"level\":logging.DEBUG, \"root\":False, \"format\":'%(levelname)s! The message: \"%(message)s\"',\n",
    "        \"datefmt\":\"MM-DD-YYYY\",\"version\":1,\"fname\":\"this_is_B.log\"}\n",
    "logging.config.dictConfig(Bdict)"
   ]
  },
  {
   "cell_type": "code",
   "execution_count": null,
   "metadata": {},
   "outputs": [],
   "source": []
  }
 ],
 "metadata": {
  "kernelspec": {
   "display_name": "Python 3",
   "language": "python",
   "name": "python3"
  },
  "language_info": {
   "codemirror_mode": {
    "name": "ipython",
    "version": 3
   },
   "file_extension": ".py",
   "mimetype": "text/x-python",
   "name": "python",
   "nbconvert_exporter": "python",
   "pygments_lexer": "ipython3",
   "version": "3.8.3"
  }
 },
 "nbformat": 4,
 "nbformat_minor": 4
}
