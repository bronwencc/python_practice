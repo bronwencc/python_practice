{
 "cells": [
  {
   "cell_type": "markdown",
   "metadata": {},
   "source": [
    "## Understanding a $\\chi^2$ test in Python\n",
    "This notebook uses Python to review the basics of $\\chi^2$ tests. They are a way to test for significance for categorical variables. It is a companion notebook to a blog post on the same topic.\n",
    "\n",
    "I would also like to more completely understand the critical values used to compare $\\chi^2$ values depending on the degrees of freedom."
   ]
  },
  {
   "cell_type": "code",
   "execution_count": 1,
   "metadata": {},
   "outputs": [],
   "source": [
    "#packages used in this notebook\n",
    "import random\n",
    "import numpy as np\n",
    "from scipy.stats import norm, chi2\n",
    "import pandas as pd\n",
    "import math\n",
    "import matplotlib.pyplot as plt\n",
    "%matplotlib inline"
   ]
  },
  {
   "cell_type": "code",
   "execution_count": 2,
   "metadata": {},
   "outputs": [],
   "source": [
    "plt.style.use(\"ggplot\")"
   ]
  },
  {
   "cell_type": "code",
   "execution_count": 9,
   "metadata": {},
   "outputs": [],
   "source": [
    "#generate random numbers to be categories\n",
    "def simple_categorical(size=10):\n",
    "    '''\n",
    "    Gives a list of the given length of two pseudo-randomly-generated categories \"first\" and \"second\", relying on Python's\n",
    "    random.randint method.\n",
    "    \n",
    "    Arguments:\n",
    "            size (int) : a number describing how many items should be generated\n",
    "    \n",
    "    Returns:\n",
    "            cat_list (list) : a list of size number of Strings, pseudo-randomly chosen to be \"first\" and \"second\"\n",
    "    '''\n",
    "    cat_list=[]\n",
    "    \n",
    "    for i in range(size): #loop through number of times given by size argument\n",
    "        num = random.randint(1,2)\n",
    "        if num ==1:\n",
    "            cat=\"first\"\n",
    "        elif num==2:\n",
    "            cat=\"second\"\n",
    "        cat_list.append(cat)\n",
    "    \n",
    "    return cat_list #return the list of Strings pseudo-randomly chosen"
   ]
  },
  {
   "cell_type": "code",
   "execution_count": 10,
   "metadata": {},
   "outputs": [],
   "source": [
    "firseclist = simple_categorical(100)"
   ]
  },
  {
   "cell_type": "code",
   "execution_count": 11,
   "metadata": {},
   "outputs": [
    {
     "data": {
      "text/plain": [
       "second    57\n",
       "first     43\n",
       "Name: catvar1, dtype: int64"
      ]
     },
     "execution_count": 11,
     "metadata": {},
     "output_type": "execute_result"
    }
   ],
   "source": [
    "#create a dataframe with categorical variables\n",
    "newframe = pd.DataFrame({\"catvar1\":firseclist},index=range(100))\n",
    "newframe.catvar1.value_counts()"
   ]
  },
  {
   "cell_type": "code",
   "execution_count": 12,
   "metadata": {},
   "outputs": [
    {
     "name": "stdout",
     "output_type": "stream",
     "text": [
      "<class 'pandas.core.frame.DataFrame'>\n",
      "RangeIndex: 100 entries, 0 to 99\n",
      "Data columns (total 1 columns):\n",
      " #   Column   Non-Null Count  Dtype \n",
      "---  ------   --------------  ----- \n",
      " 0   catvar1  100 non-null    object\n",
      "dtypes: object(1)\n",
      "memory usage: 928.0+ bytes\n"
     ]
    }
   ],
   "source": [
    "#convert to categorical type\n",
    "newframe.astype({\"catvar1\":\"category\"})\n",
    "newframe.info()"
   ]
  },
  {
   "cell_type": "markdown",
   "metadata": {},
   "source": [
    "### Hypothesis\n",
    "The values that could be expected would be 50 for each category (\"first\" or \"second\") in `catvar1`. The null and alternative hypotheses are as follows:\n",
    "\n",
    "$H_0$: The two categories are not significantly different from each other. (Both are 50.)\n",
    "\n",
    "$H_A$: The two categories are significantly different from one another. (Neither are close to each other or 50.)\n",
    "\n",
    "In this case, the p-value for significance will be 0.05, so if the p-value calculated from the $\\chi^2$ test is lower than that, that would mean there is a probability of less than 5% that the null hypothesis is correct."
   ]
  },
  {
   "cell_type": "markdown",
   "metadata": {},
   "source": [
    "### Mathematics of Chi-squared\n",
    "The chi-squared value is the sum as follows:\n",
    "$$\\sum \\frac{(O-E)^2}{E}$$\n",
    "where O is the observed value and E is the expected value.\n",
    "\n",
    "In this example with `newframe`'s categorical variable `catvar1`, the frequencies are these values. O is the value counts for each and E is (somewhat arbitrarily) 50 because I could expect 100 random series of choices between \"first\" and \"second\" to be distributed exactly evenly."
   ]
  },
  {
   "cell_type": "code",
   "execution_count": 18,
   "metadata": {},
   "outputs": [
    {
     "data": {
      "text/plain": [
       "[57, 43]"
      ]
     },
     "execution_count": 18,
     "metadata": {},
     "output_type": "execute_result"
    }
   ],
   "source": [
    "#put the two value counts into their own list; observed\n",
    "observed = []\n",
    "valuecount = newframe.catvar1.value_counts()\n",
    "observed = [valuecount[0],valuecount[1]]\n",
    "observed"
   ]
  },
  {
   "cell_type": "code",
   "execution_count": 19,
   "metadata": {},
   "outputs": [],
   "source": [
    "#create function to get chi-squared\n",
    "def chisquared(observations, expectations):\n",
    "    '''\n",
    "    Gives the list of chi-squared values calculated for each pair at the same index,\n",
    "    according to (observation - expectation)^2/expectation.\n",
    "    '''\n",
    "    chi2list = []\n",
    "    for obs,exp in zip(observations,expectations):\n",
    "        chi2 = (obs-exp)**2/float(exp) # convert to float in case the value is an int so the division is more accurate\n",
    "        chi2list.append(chi2)\n",
    "    \n",
    "    return chi2list"
   ]
  },
  {
   "cell_type": "code",
   "execution_count": 20,
   "metadata": {},
   "outputs": [],
   "source": [
    "#calculate the summation\n",
    "expected = [50,50] # a 50-50 split is what is expected\n",
    "chisqval = sum(chisquared(observed,expected)) #sum the list from chisquared"
   ]
  },
  {
   "cell_type": "code",
   "execution_count": 24,
   "metadata": {},
   "outputs": [
    {
     "name": "stdout",
     "output_type": "stream",
     "text": [
      "The chi-squared value is 1.96.\n"
     ]
    }
   ],
   "source": [
    "print(f\"The chi-squared value is {chisqval}.\")"
   ]
  },
  {
   "cell_type": "markdown",
   "metadata": {},
   "source": [
    "### The critical $\\chi^2$ value\n",
    "The critical value depends on the degrees of freedom and the p-value threshold. In this case, with two possible options for `catvar1`, the degree of freedom is $(2-1) = 1$. Also, when defining the hypothesis, the p-value was decided to be 0.05."
   ]
  },
  {
   "cell_type": "code",
   "execution_count": 21,
   "metadata": {},
   "outputs": [],
   "source": [
    "#initialize p-value and degrees of freedom\n",
    "degf = len(observed)-1\n",
    "pval = 0.05"
   ]
  },
  {
   "cell_type": "markdown",
   "metadata": {},
   "source": [
    "The area to the right of the critical value in a $\\chi^2$ distribution is what gets compared to the $\\chi^2$ summation calculated above (stored in `chisqval`).\n",
    "\n",
    "Below uses the `ppf` (Percent point function) method from `scipy`'s `chi2` module. The documentation for `chi2` is available [here](https://docs.scipy.org/doc/scipy/reference/generated/scipy.stats.chi2.html). The ppf is the inverse of cdf (the cumulative distribution function).\n",
    "\n",
    "The chi-square table with critical values appears to be based on ppf values."
   ]
  },
  {
   "cell_type": "code",
   "execution_count": 23,
   "metadata": {},
   "outputs": [],
   "source": [
    "#generate 50 values from ppf for p-values between 0.01 and 0.99\n",
    "#documentation for arange says to use linspace for non-integer steps\n",
    "critvals = np.linspace(chi2.ppf(0.01,degf),chi2.ppf(0.99,degf),50)\n",
    "pvals = np.linspace(0.99,0.01,50)"
   ]
  },
  {
   "cell_type": "code",
   "execution_count": 25,
   "metadata": {},
   "outputs": [
    {
     "data": {
      "image/png": "[encoded data removed]",
      "text/plain": [
       "<Figure size 432x288 with 1 Axes>"
      ]
     },
     "metadata": {},
     "output_type": "display_data"
    }
   ],
   "source": [
    "plt.plot(critvals,pvals,label=\"1 deg\")\n",
    "plt.ylabel(\"p-value\")\n",
    "plt.xlabel(\"Area to the right of the critical value\")\n",
    "plt.legend()\n",
    "plt.show()"
   ]
  },
  {
   "cell_type": "code",
   "execution_count": null,
   "metadata": {},
   "outputs": [],
   "source": []
  }
 ],
 "metadata": {
  "kernelspec": {
   "display_name": "Python 3",
   "language": "python",
   "name": "python3"
  },
  "language_info": {
   "codemirror_mode": {
    "name": "ipython",
    "version": 3
   },
   "file_extension": ".py",
   "mimetype": "text/x-python",
   "name": "python",
   "nbconvert_exporter": "python",
   "pygments_lexer": "ipython3",
   "version": "3.8.3"
  }
 },
 "nbformat": 4,
 "nbformat_minor": 4
}
